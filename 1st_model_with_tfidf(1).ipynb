{
  "nbformat": 4,
  "nbformat_minor": 0,
  "metadata": {
    "colab": {
      "name": "1st_model_with_tfidf.ipynb",
      "provenance": [],
      "collapsed_sections": []
    },
    "kernelspec": {
      "name": "python3",
      "display_name": "Python 3"
    },
    "accelerator": "GPU"
  },
  "cells": [
    {
      "cell_type": "code",
      "metadata": {
        "id": "t0tsZrJjepLA",
        "colab": {
          "base_uri": "https://localhost:8080/"
        },
        "outputId": "66837b48-0307-4a3f-f6cc-12ba62168540"
      },
      "source": [
        "import pandas as pd\n",
        "import string\n",
        "import os\n",
        "import numpy as np\n",
        "from wordcloud import WordCloud, STOPWORDS, ImageColorGenerator\n",
        "from PIL import Image\n",
        "import urllib\n",
        "import requests\n",
        "import matplotlib.pyplot as plt\n",
        "from sklearn.model_selection import train_test_split,cross_val_score\n",
        "from sklearn.metrics import roc_curve, auc, classification_report\n",
        "from sklearn.preprocessing import label_binarize\n",
        "from sklearn.naive_bayes import GaussianNB\n",
        "from sklearn.model_selection import cross_val_score\n",
        "import time\n",
        "import glob\n",
        "import seaborn as sns\n",
        "import matplotlib.pyplot as plt\n",
        "import operator\n",
        "import folium\n",
        "from itertools import cycle, islice\n",
        "from pandas import options\n",
        "import warnings\n",
        "import pickle\n",
        "import re\n",
        "import nltk\n",
        "import torch.nn as nn\n",
        "import torch.nn.functional as F\n",
        "import torch.optim as optim\n",
        "import torch\n",
        "from matplotlib.pyplot import figure\n",
        "from nltk.corpus import stopwords \n",
        "import nltk\n",
        "\n",
        "\n",
        "nltk.download('wordnet')\n",
        "nltk.download('stopwords')"
      ],
      "execution_count": 1,
      "outputs": [
        {
          "output_type": "stream",
          "text": [
            "[nltk_data] Downloading package wordnet to /root/nltk_data...\n",
            "[nltk_data]   Unzipping corpora/wordnet.zip.\n",
            "[nltk_data] Downloading package stopwords to /root/nltk_data...\n",
            "[nltk_data]   Unzipping corpora/stopwords.zip.\n"
          ],
          "name": "stdout"
        },
        {
          "output_type": "execute_result",
          "data": {
            "text/plain": [
              "True"
            ]
          },
          "metadata": {
            "tags": []
          },
          "execution_count": 1
        }
      ]
    },
    {
      "cell_type": "code",
      "metadata": {
        "id": "rGtXnSJWcVsk",
        "colab": {
          "base_uri": "https://localhost:8080/"
        },
        "outputId": "ef5a6ec1-f930-4b05-e2f8-fff7d9ebc74b"
      },
      "source": [
        "from google.colab import drive\n",
        "drive.mount('/content/drive/')"
      ],
      "execution_count": 2,
      "outputs": [
        {
          "output_type": "stream",
          "text": [
            "Mounted at /content/drive/\n"
          ],
          "name": "stdout"
        }
      ]
    },
    {
      "cell_type": "markdown",
      "metadata": {
        "id": "CjfAmaykxM6E"
      },
      "source": [
        "## *Step 1*: Load the data of preprocessing Notebook"
      ]
    },
    {
      "cell_type": "code",
      "metadata": {
        "id": "r9IlGVi-xLwl"
      },
      "source": [
        "x_train_file = open('/content/drive/My Drive/X_train.pkl', 'rb')\n",
        "X_train = pickle.load(x_train_file)\n",
        "\n",
        "x_test_file = open('/content/drive/My Drive/X_test.pkl', 'rb')\n",
        "X_test = pickle.load(x_test_file)\n",
        "\n",
        "y_train_file = open('/content/drive/My Drive/Y_train.pkl', 'rb')\n",
        "Y_train = pickle.load(y_train_file)\n",
        "\n",
        "y_test_file = open('/content/drive/My Drive/Y_test.pkl', 'rb')\n",
        "Y_test = pickle.load(y_test_file)\n",
        "\n",
        "x_val_file = open('/content/drive/My Drive/X_val.pkl', 'rb')\n",
        "X_val = pickle.load(x_val_file)\n",
        "\n",
        "y_val_file = open('/content/drive/My Drive/Y_val.pkl', 'rb')\n",
        "Y_val = pickle.load(y_val_file)"
      ],
      "execution_count": 3,
      "outputs": []
    },
    {
      "cell_type": "markdown",
      "metadata": {
        "id": "GhyxGpbVMkm7"
      },
      "source": [
        "## *Step 2*: Vectorization with TF-IDF"
      ]
    },
    {
      "cell_type": "markdown",
      "metadata": {
        "id": "HcwJFi5T0dRD"
      },
      "source": [
        "Here I select to have 1000 dimensions, so as to get the most information I could have without memory crashed. If I take less features, the score wasn't so good and if I take more features, I have memory crashed."
      ]
    },
    {
      "cell_type": "code",
      "metadata": {
        "id": "C3a0-jIvMmF4",
        "colab": {
          "base_uri": "https://localhost:8080/"
        },
        "outputId": "66132c9d-7d2a-4112-8cc1-5d3756a21e3f"
      },
      "source": [
        "from sklearn.feature_extraction.text import TfidfVectorizer\n",
        "\n",
        "train = X_train['text'].tolist()\n",
        "val = X_val['text'].to_list()\n",
        "test = X_test['text'].tolist()\n",
        "STOPWORDS = set(stopwords.words('english'))\n",
        "\n",
        "tfidf_vectorizer = TfidfVectorizer(max_features=1000, dtype=np.float32)\n",
        "\n",
        "tfidfX_train = tfidf_vectorizer.fit_transform(train)\n",
        "tfidfX_train = tfidfX_train.toarray()\n",
        "\n",
        "tfidfX_val = tfidf_vectorizer.transform(val)\n",
        "tfidfX_val = tfidfX_val.toarray()\n",
        "\n",
        "tfidfX_test = tfidf_vectorizer.transform(test)\n",
        "tfidfX_test = tfidfX_test.toarray()\n",
        "\n",
        "print(\"TF-IDF train shape:\", tfidfX_train.shape)\n",
        "print(\"TF-IDF test shape:\", tfidfX_test.shape)\n",
        "print(\"TF-IDF val shape:\", tfidfX_val.shape)"
      ],
      "execution_count": 4,
      "outputs": [
        {
          "output_type": "stream",
          "text": [
            "TF-IDF train shape: (495012, 1000)\n",
            "TF-IDF test shape: (2500, 1000)\n",
            "TF-IDF val shape: (2488, 1000)\n"
          ],
          "name": "stdout"
        }
      ]
    },
    {
      "cell_type": "markdown",
      "metadata": {
        "id": "_YIw7O6R1tAU"
      },
      "source": [
        "## *Step 3*: Convert to tensors"
      ]
    },
    {
      "cell_type": "code",
      "metadata": {
        "id": "disoiUFj58PE"
      },
      "source": [
        "# Convert X datasets to tensors.\n",
        "tfidfX_train = torch.tensor(tfidfX_train)\n",
        "tfidfX_val = torch.tensor(tfidfX_val)\n",
        "tfidfX_test = torch.tensor(tfidfX_test)"
      ],
      "execution_count": 5,
      "outputs": []
    },
    {
      "cell_type": "code",
      "metadata": {
        "id": "H2AALIiO6aEL"
      },
      "source": [
        "# Convert Y labels to tensors with torch.squeeze.\n",
        "Y_train = torch.squeeze(torch.from_numpy(Y_train.to_numpy()).float())\n",
        "Y_val = torch.squeeze(torch.from_numpy(Y_val.to_numpy()).float())\n",
        "Y_test = torch.squeeze(torch.from_numpy(Y_test.to_numpy()).float())"
      ],
      "execution_count": 6,
      "outputs": []
    },
    {
      "cell_type": "markdown",
      "metadata": {
        "id": "JFyB0zy41yuT"
      },
      "source": [
        "## *Step 4*: Use Cuda"
      ]
    },
    {
      "cell_type": "markdown",
      "metadata": {
        "id": "08JCZf0G2H6_"
      },
      "source": [
        "Here I use the GPU (whenever I can) that google colab offer to its users. Most of the time, the limit that I can use cuda was over and I had to wait at least 12 hours to use it again. The colab couldn't run without GPU, unless I wait several of hours (because of 1000 dimensions). "
      ]
    },
    {
      "cell_type": "code",
      "metadata": {
        "id": "44kHQiMUgQqA",
        "colab": {
          "base_uri": "https://localhost:8080/"
        },
        "outputId": "4414738a-b04c-4643-fbd6-380d0da42a82"
      },
      "source": [
        "# Use cuda if present\n",
        "device = torch.device(\"cuda\" if torch.cuda.is_available() else \"cpu\")\n",
        "print(\"Device available for running: \")\n",
        "print(device)"
      ],
      "execution_count": 7,
      "outputs": [
        {
          "output_type": "stream",
          "text": [
            "Device available for running: \n",
            "cuda\n"
          ],
          "name": "stdout"
        }
      ]
    },
    {
      "cell_type": "markdown",
      "metadata": {
        "id": "P1h8JnYH14Id"
      },
      "source": [
        "## *Step 5*: Built the 1st Model"
      ]
    },
    {
      "cell_type": "markdown",
      "metadata": {
        "id": "EEaZcCOB4DjZ"
      },
      "source": [
        "In my first model I select to have 2 hidden layers, with each size of hidden units to be 512. So I have a \"shallow\" Neural Network. I tried several combinations of numbers of hidden units, but I think this is the best option."
      ]
    },
    {
      "cell_type": "code",
      "metadata": {
        "id": "zUz5aEoCgbLH"
      },
      "source": [
        "class FeedforwardNeuralNetModel(nn.Module):\n",
        "    def __init__(self, input_dim, hidden_dim_1, hidden_dim_2, output_dim):\n",
        "        super(FeedforwardNeuralNetModel, self).__init__()\n",
        "        \n",
        "        # Linear function 1\n",
        "        self.layer_1 = nn.Linear(input_dim, hidden_dim_1) \n",
        "        # self.dropout = nn.Dropout(0.3)\n",
        "        # self.batch1 = nn.BatchNorm1d(hidden_dim)\n",
        "        \n",
        "        # Non-linearity 1\n",
        "        self.relu_1 = nn.ReLU()\n",
        "\n",
        "        # Linear function 2\n",
        "        self.layer_2 = nn.Linear(hidden_dim_1, hidden_dim_2)\n",
        "        # Non-linearity 2\n",
        "        self.relu_2 = nn.ReLU()\n",
        "\n",
        "        # Linear function 3\n",
        "        self.layer_3 = nn.Linear(hidden_dim_2, output_dim)  \n",
        "\n",
        "    def forward(self, x):\n",
        "        out = self.layer_1(x)\n",
        "        out = self.relu_1(out)\n",
        "\n",
        "        out = self.layer_2(out)\n",
        "        out = self.relu_2(out)\n",
        "\n",
        "        out = self.layer_3(out)\n",
        "\n",
        "        return torch.sigmoid(out)"
      ],
      "execution_count": 8,
      "outputs": []
    },
    {
      "cell_type": "markdown",
      "metadata": {
        "id": "xkQ7eZvW7HC_"
      },
      "source": [
        "## *Step 6*: Initialize the 1st Model"
      ]
    },
    {
      "cell_type": "markdown",
      "metadata": {
        "id": "AtGAR--55COp"
      },
      "source": [
        "As you can see I select \n",
        "- 150 epochs, learning rate 1e-4 and weight decay 1e-3. \n",
        "- For the loss function, I select the BCELoss(), because this is the best option if we have binary classification.\n",
        "- As optimizer I select Adam, since I read that it has the best performance. Althouth I tried other optimizers, the score doesn't changed.\n",
        "\n"
      ]
    },
    {
      "cell_type": "code",
      "metadata": {
        "id": "4Wf_YSr78IMO"
      },
      "source": [
        "# Dimensions of each layer and num of epochs.\n",
        "input_dim = tfidfX_train.shape[1]\n",
        "hidden_dim_1 = 512\n",
        "hidden_dim_2 = 512\n",
        "output_dim = 1\n",
        "num_epochs = 150\n",
        "\n",
        "# Define our first feed forward neural network.\n",
        "first_model = FeedforwardNeuralNetModel(input_dim,hidden_dim_1,hidden_dim_2,output_dim)\n",
        "\n",
        "# Define loss function.\n",
        "criterion = nn.BCELoss()\n",
        "# criterion = nn.CrossEntropyLoss()\n",
        "\n",
        "# Define as optimizer Adam.\n",
        "optimizer = optim.Adam(first_model.parameters(),lr=0.1e-3,weight_decay=1e-3)\n",
        "\n",
        "# Transfer all the computation to GPU (cuda device).\n",
        "first_model.to(device)\n",
        "criterion = criterion.to(device)"
      ],
      "execution_count": 9,
      "outputs": []
    },
    {
      "cell_type": "markdown",
      "metadata": {
        "id": "QnuGjV3J7MOn"
      },
      "source": [
        "## *Step 7*: Train the 1st Model"
      ]
    },
    {
      "cell_type": "markdown",
      "metadata": {
        "id": "4hAl5mAc7pRX"
      },
      "source": [
        "In order to train the model, the first thing I did is to split the dataset for each epoch to mini batches of size 10.000, as I can run the model in less time and take good results at the same time. In each epoch I calculate the gradients and update the parametrers of each training set and I find the predictions of validation set. Every time I save the accuracy and the loss of each mini batch, so as to show the above plots."
      ]
    },
    {
      "cell_type": "code",
      "metadata": {
        "id": "ClJK3P0RO7ew"
      },
      "source": [
        "# This is a function that calculate the accuracy manually\n",
        "def calculate_accuracy(y_true, y_pred):  \n",
        "  y_pred = torch.round(y_pred)\n",
        "  correct = (y_true == y_pred).float() \n",
        "  acc = correct.sum() / len(correct)\n",
        "  return acc\n",
        "\n",
        "batch_size = 10000\n",
        "\n",
        "# Split train dataset to mini batches\n",
        "X_train_mini_batches = torch.split(tfidfX_train,batch_size)\n",
        "Y_train_mini_batches = torch.split(Y_train,batch_size)\n",
        "\n",
        "train_losses = []\n",
        "train_accuracies = []\n",
        "val_losses = []\n",
        "val_accuracies = []\n",
        "\n",
        "# Start training\n",
        "for epoch in range(num_epochs):\n",
        "  epoch_loss = 0\n",
        "  epoch_accuracy = 0\n",
        "  validation_loss=0\n",
        "  val_accuracy=0\n",
        "\n",
        "  for X_train_mini_batch,Y_train_mini_batch in zip(X_train_mini_batches,Y_train_mini_batches):\n",
        "    \n",
        "    X_train_mini_batch = X_train_mini_batch.to(device)\n",
        "    Y_train_mini_batch = Y_train_mini_batch.to(device)\n",
        "\n",
        "    # Forward pass to get output\n",
        "    train_prediction = first_model.forward(X_train_mini_batch.float())\n",
        "    train_prediction = torch.squeeze(train_prediction)\n",
        "\n",
        "    # Calculate Loss\n",
        "    train_loss = criterion(train_prediction,Y_train_mini_batch)\n",
        "\n",
        "    # Clearing up accumulated gradients\n",
        "    optimizer.zero_grad()\n",
        "    \n",
        "    # Getting gradients\n",
        "    train_loss.backward()\n",
        "\n",
        "    # Updating parameters\n",
        "    optimizer.step()\n",
        "\n",
        "    # Add each mini batch's loss\n",
        "    epoch_loss += train_loss.item()\n",
        "\n",
        "    # Add each mini batch's accuracy\n",
        "    epoch_accuracy += calculate_accuracy(Y_train_mini_batch,train_prediction)\n",
        "\n",
        "  # For some epochs print loss and accucary of train and validation set.\n",
        "  if epoch % 1 == 0:\n",
        "    \n",
        "    tfidfX_val = tfidfX_val.to(device)\n",
        "    Y_val = Y_val.to(device)\n",
        "\n",
        "    # Forward pass to get output\n",
        "    val_prediction = first_model.forward(tfidfX_val.float())\n",
        "    val_prediction = torch.squeeze(val_prediction)\n",
        "    \n",
        "    # Calculate Loss\n",
        "    val_loss = criterion(val_prediction,Y_val)\n",
        "\n",
        "    # Add each mini batch's loss\n",
        "    validation_loss = val_loss.item()\n",
        "\n",
        "    # Add each mini batch's accuracy\n",
        "    val_accuracy = calculate_accuracy(Y_val,val_prediction)\n",
        "\n",
        "    epoch_loss /= len(X_train_mini_batches)\n",
        "    epoch_accuracy /= len(X_train_mini_batches)\n",
        "    val_losses.append(validation_loss)\n",
        "    train_losses.append(epoch_loss)\n",
        "    train_accuracies.append(epoch_accuracy)\n",
        "    val_accuracies.append(val_accuracy)\n",
        "    # print(\"Epoch:\",epoch, \"\\n\"\n",
        "    #       \"Train_loss:\",round(epoch_loss,4), \"Train Accuracy:\",round(epoch_accuracy.item(),4), \"\\n\"\n",
        "    #       \"Validation_loss:  \",round(validation_loss,4), \"Validation Accuracy:  \",round(val_accuracy.item(),4), \"\\n\")"
      ],
      "execution_count": 10,
      "outputs": []
    },
    {
      "cell_type": "markdown",
      "metadata": {
        "id": "1CtMDSfU-SC2"
      },
      "source": [
        "## *Step 8*: Plot loss vs epochs and accuracy vs epochs "
      ]
    },
    {
      "cell_type": "code",
      "metadata": {
        "id": "vt5tbuSZJIXZ",
        "colab": {
          "base_uri": "https://localhost:8080/",
          "height": 513
        },
        "outputId": "edcbe25d-596c-4b08-e84f-2803172d8bc2"
      },
      "source": [
        "figure(figsize=(8,8)) \n",
        "plt.plot(train_losses)\n",
        "plt.plot(val_losses)\n",
        "plt.title('First Model Loss')\n",
        "plt.ylabel('Loss')\n",
        "plt.xlabel('Epoch')\n",
        "plt.legend(['train', 'val'], loc='upper right')\n",
        "plt.show()"
      ],
      "execution_count": 11,
      "outputs": [
        {
          "output_type": "display_data",
          "data": {
            "image/png": "[encoded data removed]",
            "text/plain": [
              "<Figure size 576x576 with 1 Axes>"
            ]
          },
          "metadata": {
            "tags": [],
            "needs_background": "light"
          }
        }
      ]
    },
    {
      "cell_type": "code",
      "metadata": {
        "id": "fDzYWEzesGI_",
        "colab": {
          "base_uri": "https://localhost:8080/",
          "height": 513
        },
        "outputId": "08896abb-a75a-4829-be5d-dd364d3d5718"
      },
      "source": [
        "figure(figsize=(8,8)) \n",
        "plt.plot(train_accuracies)\n",
        "plt.plot(val_accuracies)\n",
        "plt.title('First Model Accuracy')\n",
        "plt.ylabel('Loss')\n",
        "plt.xlabel('Epoch')\n",
        "plt.legend(['train', 'val'], loc='upper left')\n",
        "plt.show()"
      ],
      "execution_count": 12,
      "outputs": [
        {
          "output_type": "display_data",
          "data": {
            "image/png": "[encoded data removed]",
            "text/plain": [
              "<Figure size 576x576 with 1 Axes>"
            ]
          },
          "metadata": {
            "tags": [],
            "needs_background": "light"
          }
        }
      ]
    },
    {
      "cell_type": "markdown",
      "metadata": {
        "id": "pmuv8Hkl-pqy"
      },
      "source": [
        "####As you can see there is neither **overfitting** nor **underfitting**, while the training and validation loss decreases to a point of stability with a minimal gap between the two final loss values. I noticed that if I continued with more epochs the plot of training loss continues to decrease with experience and the plot of validation loss decreases to a point and begins increasing again (which means that we have the phenomenon of overfitting). So I decide to stop to 150 epochs as we have a **good fit**.\n",
        "---\n",
        "####If you look carefully, you can see that the model converges approximately in epoch 120. So the **first model** needs at least 120 epochs to reach the minimun cost of 0.45. We should remember this in order to compare this with the other models.\n"
      ]
    },
    {
      "cell_type": "markdown",
      "metadata": {
        "id": "fGC96RLHBe8Z"
      },
      "source": [
        "## *Step 9*: Calculate the accuracy on test set  "
      ]
    },
    {
      "cell_type": "markdown",
      "metadata": {
        "id": "eRS0LSWwBset"
      },
      "source": [
        "Here I calculate the accuracy on test set manually and also show the classification report. "
      ]
    },
    {
      "cell_type": "code",
      "metadata": {
        "id": "rjVufQAnLHZ2",
        "colab": {
          "base_uri": "https://localhost:8080/"
        },
        "outputId": "13586390-f176-4f39-d997-67db274828f1"
      },
      "source": [
        "tfidfX_test = tfidfX_test.to(device)\n",
        "Y_test = Y_test.to(device)\n",
        "\n",
        "# Forward pass to get output\n",
        "test_prediction = first_model.forward(tfidfX_test.float())\n",
        "test_prediction = torch.squeeze(test_prediction)\n",
        "\n",
        "#Calculate accuracy on test set\n",
        "test_accuracy = calculate_accuracy(Y_test,test_prediction)\n",
        "\n",
        "print(\"Test Accuracy:\",round(test_accuracy.item(),4), \"\\n\")"
      ],
      "execution_count": 13,
      "outputs": [
        {
          "output_type": "stream",
          "text": [
            "Test Accuracy: 0.7924 \n",
            "\n"
          ],
          "name": "stdout"
        }
      ]
    },
    {
      "cell_type": "code",
      "metadata": {
        "id": "dRRJ_Hfhwm2d",
        "colab": {
          "base_uri": "https://localhost:8080/"
        },
        "outputId": "5ecbdcef-3cf1-41c6-da37-201333f636c8"
      },
      "source": [
        "#Show the classification report\n",
        "test_prediction = test_prediction.to(device)\n",
        "test_prediction = test_prediction.ge(.5).view(-1).cpu()\n",
        "Y_test = Y_test.cpu()\n",
        "\n",
        "print(classification_report(Y_test,test_prediction))"
      ],
      "execution_count": 14,
      "outputs": [
        {
          "output_type": "stream",
          "text": [
            "              precision    recall  f1-score   support\n",
            "\n",
            "         0.0       0.79      0.81      0.80      1281\n",
            "         1.0       0.79      0.77      0.78      1219\n",
            "\n",
            "    accuracy                           0.79      2500\n",
            "   macro avg       0.79      0.79      0.79      2500\n",
            "weighted avg       0.79      0.79      0.79      2500\n",
            "\n"
          ],
          "name": "stdout"
        }
      ]
    },
    {
      "cell_type": "code",
      "metadata": {
        "id": "AtvVfn4m6mAd"
      },
      "source": [
        "#Close the pickle files.\n",
        "x_train_file.close()\n",
        "y_train_file.close()\n",
        "x_test_file.close()\n",
        "y_test_file.close()\n",
        "x_val_file.close()\n",
        "y_val_file.close()"
      ],
      "execution_count": 15,
      "outputs": []
    },
    {
      "cell_type": "markdown",
      "metadata": {
        "id": "xa1RuDuuCLLU"
      },
      "source": [
        "## *Step 10*: Summaries"
      ]
    },
    {
      "cell_type": "markdown",
      "metadata": {
        "id": "-eBB1mdCCk8P"
      },
      "source": [
        "- We notice that the first model gives score of 0.79. In order to reach to this score, without overfitting or underfitting, it needed at least 120 epochs to reach the minimun cost.\n",
        "\n",
        "- The weight decay parameter adds a L2 penalty to the cost which can effectively lead to to smaller model weights. This helped me mainly with overfitting.\n",
        "\n",
        "- I would like to refer that I experimented with several values of hidden layers and units and I end up to 2 hidden layers with 512 hidden units each. I preffered to start with a non deep Neural Network. For this reason, I select just one layer at the beggining, but this leads me to underfitting and I couldn't fix it easily, so I don't think it was worth mentioning as another model.\n",
        "\n",
        "- When I have overfitting I tried the technique of Dropout and Batch Normalization but it didn't help me, because the only thing that happened is the cost fluctuate over the training examples and it wasn't so quite smooth just like now.\n",
        "\n",
        "- I have to mention that in order to run all the colab notebook with no crashed memory, I have to load the half of our dataset, ie 500.000 tweets."
      ]
    }
  ]
}