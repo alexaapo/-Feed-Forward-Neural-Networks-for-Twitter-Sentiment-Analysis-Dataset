{
  "nbformat": 4,
  "nbformat_minor": 0,
  "metadata": {
    "colab": {
      "name": "3rd_model_with_tfidf.ipynb",
      "provenance": [],
      "collapsed_sections": []
    },
    "kernelspec": {
      "name": "python3",
      "display_name": "Python 3"
    },
    "accelerator": "GPU"
  },
  "cells": [
    {
      "cell_type": "code",
      "metadata": {
        "id": "t0tsZrJjepLA",
        "colab": {
          "base_uri": "https://localhost:8080/"
        },
        "outputId": "928ec9da-adf2-47cf-e921-4c2c23d1fb24"
      },
      "source": [
        "import pandas as pd\n",
        "import string\n",
        "import os\n",
        "import numpy as np\n",
        "from wordcloud import WordCloud, STOPWORDS, ImageColorGenerator\n",
        "from PIL import Image\n",
        "import urllib\n",
        "import requests\n",
        "import matplotlib.pyplot as plt\n",
        "from sklearn.model_selection import train_test_split,cross_val_score\n",
        "from sklearn.metrics import roc_curve, auc, classification_report\n",
        "from sklearn.preprocessing import label_binarize\n",
        "from sklearn.naive_bayes import GaussianNB\n",
        "from sklearn.model_selection import cross_val_score\n",
        "import time\n",
        "import glob\n",
        "import seaborn as sns\n",
        "import matplotlib.pyplot as plt\n",
        "import operator\n",
        "import folium\n",
        "from itertools import cycle, islice\n",
        "from pandas import options\n",
        "import warnings\n",
        "import pickle\n",
        "import re\n",
        "import nltk\n",
        "import torch.nn as nn\n",
        "import torch.nn.functional as F\n",
        "import torch.optim as optim\n",
        "import torch\n",
        "from matplotlib.pyplot import figure\n",
        "from nltk.corpus import stopwords \n",
        "import nltk\n",
        "\n",
        "\n",
        "nltk.download('wordnet')\n",
        "nltk.download('stopwords')"
      ],
      "execution_count": 1,
      "outputs": [
        {
          "output_type": "stream",
          "text": [
            "[nltk_data] Downloading package wordnet to /root/nltk_data...\n",
            "[nltk_data]   Package wordnet is already up-to-date!\n",
            "[nltk_data] Downloading package stopwords to /root/nltk_data...\n",
            "[nltk_data]   Package stopwords is already up-to-date!\n"
          ],
          "name": "stdout"
        },
        {
          "output_type": "execute_result",
          "data": {
            "text/plain": [
              "True"
            ]
          },
          "metadata": {
            "tags": []
          },
          "execution_count": 1
        }
      ]
    },
    {
      "cell_type": "code",
      "metadata": {
        "id": "rGtXnSJWcVsk",
        "colab": {
          "base_uri": "https://localhost:8080/"
        },
        "outputId": "9b7b6f81-d39c-4344-f5e9-94b017c80ad7"
      },
      "source": [
        "from google.colab import drive\n",
        "drive.mount('/content/drive/')"
      ],
      "execution_count": 2,
      "outputs": [
        {
          "output_type": "stream",
          "text": [
            "Drive already mounted at /content/drive/; to attempt to forcibly remount, call drive.mount(\"/content/drive/\", force_remount=True).\n"
          ],
          "name": "stdout"
        }
      ]
    },
    {
      "cell_type": "markdown",
      "metadata": {
        "id": "H7ajBC0UTvMJ"
      },
      "source": [
        "##This is exactly the same Notebook as the first one with tf-idf, but now I change the model and implement the ROC Curve, so I didn't analyzed again each point of this Notebook."
      ]
    },
    {
      "cell_type": "markdown",
      "metadata": {
        "id": "CjfAmaykxM6E"
      },
      "source": [
        "## *Step 1*: Load the data of preprocessing Notebook"
      ]
    },
    {
      "cell_type": "code",
      "metadata": {
        "id": "r9IlGVi-xLwl"
      },
      "source": [
        "x_train_file = open('/content/drive/My Drive/X_train.pkl', 'rb')\n",
        "X_train = pickle.load(x_train_file)\n",
        "\n",
        "x_test_file = open('/content/drive/My Drive/X_test.pkl', 'rb')\n",
        "X_test = pickle.load(x_test_file)\n",
        "\n",
        "y_train_file = open('/content/drive/My Drive/Y_train.pkl', 'rb')\n",
        "Y_train = pickle.load(y_train_file)\n",
        "\n",
        "y_test_file = open('/content/drive/My Drive/Y_test.pkl', 'rb')\n",
        "Y_test = pickle.load(y_test_file)\n",
        "\n",
        "x_val_file = open('/content/drive/My Drive/X_val.pkl', 'rb')\n",
        "X_val = pickle.load(x_val_file)\n",
        "\n",
        "y_val_file = open('/content/drive/My Drive/Y_val.pkl', 'rb')\n",
        "Y_val = pickle.load(y_val_file)"
      ],
      "execution_count": 3,
      "outputs": []
    },
    {
      "cell_type": "markdown",
      "metadata": {
        "id": "GhyxGpbVMkm7"
      },
      "source": [
        "## *Step 2*: Vectorization with TF-IDF"
      ]
    },
    {
      "cell_type": "code",
      "metadata": {
        "id": "C3a0-jIvMmF4",
        "colab": {
          "base_uri": "https://localhost:8080/"
        },
        "outputId": "da4b6012-35c3-4276-d0c6-f9fe6b36f064"
      },
      "source": [
        "from sklearn.feature_extraction.text import TfidfVectorizer\n",
        "\n",
        "train = X_train['text'].tolist()\n",
        "val = X_val['text'].to_list()\n",
        "test = X_test['text'].tolist()\n",
        "STOPWORDS = set(stopwords.words('english'))\n",
        "\n",
        "tfidf_vectorizer = TfidfVectorizer(max_features=1000, dtype=np.float32)\n",
        "\n",
        "tfidfX_train = tfidf_vectorizer.fit_transform(train)\n",
        "tfidfX_train = tfidfX_train.toarray()\n",
        "\n",
        "tfidfX_val = tfidf_vectorizer.transform(val)\n",
        "tfidfX_val = tfidfX_val.toarray()\n",
        "\n",
        "tfidfX_test = tfidf_vectorizer.transform(test)\n",
        "tfidfX_test = tfidfX_test.toarray()\n",
        "\n",
        "print(\"TF-IDF train shape:\", tfidfX_train.shape)\n",
        "print(\"TF-IDF test shape:\", tfidfX_test.shape)\n",
        "print(\"TF-IDF val shape:\", tfidfX_val.shape)"
      ],
      "execution_count": 4,
      "outputs": [
        {
          "output_type": "stream",
          "text": [
            "TF-IDF train shape: (495012, 1000)\n",
            "TF-IDF test shape: (2500, 1000)\n",
            "TF-IDF val shape: (2488, 1000)\n"
          ],
          "name": "stdout"
        }
      ]
    },
    {
      "cell_type": "markdown",
      "metadata": {
        "id": "_YIw7O6R1tAU"
      },
      "source": [
        "## *Step 3*: Convert to tensors"
      ]
    },
    {
      "cell_type": "code",
      "metadata": {
        "id": "disoiUFj58PE"
      },
      "source": [
        "# Convert X datasets to tensors with function convert_to_tensor.\n",
        "tfidfX_train = torch.tensor(tfidfX_train)\n",
        "tfidfX_val = torch.tensor(tfidfX_val)\n",
        "tfidfX_test = torch.tensor(tfidfX_test)"
      ],
      "execution_count": 5,
      "outputs": []
    },
    {
      "cell_type": "code",
      "metadata": {
        "id": "H2AALIiO6aEL"
      },
      "source": [
        "# Convert Y labels to tensors with torch.squeeze.\n",
        "Y_train = torch.squeeze(torch.from_numpy(Y_train.to_numpy()).float())\n",
        "Y_val = torch.squeeze(torch.from_numpy(Y_val.to_numpy()).float())\n",
        "Y_test = torch.squeeze(torch.from_numpy(Y_test.to_numpy()).float())"
      ],
      "execution_count": 6,
      "outputs": []
    },
    {
      "cell_type": "markdown",
      "metadata": {
        "id": "JFyB0zy41yuT"
      },
      "source": [
        "## *Step 4*: Use Cuda"
      ]
    },
    {
      "cell_type": "code",
      "metadata": {
        "id": "44kHQiMUgQqA",
        "colab": {
          "base_uri": "https://localhost:8080/"
        },
        "outputId": "399379b7-3408-4fd3-ad99-8a6979f5307a"
      },
      "source": [
        "# Use cuda if present\n",
        "device = torch.device(\"cuda\" if torch.cuda.is_available() else \"cpu\")\n",
        "print(\"Device available for running: \")\n",
        "print(device)"
      ],
      "execution_count": 7,
      "outputs": [
        {
          "output_type": "stream",
          "text": [
            "Device available for running: \n",
            "cuda\n"
          ],
          "name": "stdout"
        }
      ]
    },
    {
      "cell_type": "markdown",
      "metadata": {
        "id": "P1h8JnYH14Id"
      },
      "source": [
        "## *Step 5*: Built the 3rd Model"
      ]
    },
    {
      "cell_type": "markdown",
      "metadata": {
        "id": "2m7A7SA3UYoD"
      },
      "source": [
        "####Because I observed that the first model has better score than the second one with glove, I decide to make it much more deeper to see if it will give me better results. In lectures we learned that a deep network can fit functions better with less parameters than a shallow network. So I select to have 4 hidden layers, with each size of hidden units to be 256,128,64,32 respectively. So now I have a deeper Neural Network. I tried several combinations of numbers of hidden units, but I think this is the best option."
      ]
    },
    {
      "cell_type": "code",
      "metadata": {
        "id": "zUz5aEoCgbLH"
      },
      "source": [
        "class FeedforwardNeuralNetModel(nn.Module):\n",
        "    def __init__(self, input_dim, hidden_dim_1, hidden_dim_2, hidden_dim_3, hidden_dim_4, output_dim):\n",
        "        super(FeedforwardNeuralNetModel, self).__init__()\n",
        "        \n",
        "        # Linear function 1\n",
        "        self.layer_1 = nn.Linear(input_dim, hidden_dim_1) \n",
        "        # self.dropout = nn.Dropout(0.3)\n",
        "        # self.batch1 = nn.BatchNorm1d(hidden_dim)\n",
        "        # Non-linearity 1\n",
        "        self.relu_1 = nn.ReLU()\n",
        "\n",
        "        # Linear function 2\n",
        "        self.layer_2 = nn.Linear(hidden_dim_1, hidden_dim_2)\n",
        "        # Non-linearity 2\n",
        "        self.relu_2 = nn.ReLU()\n",
        "\n",
        "        # Linear function 2\n",
        "        self.layer_3 = nn.Linear(hidden_dim_2, hidden_dim_3)\n",
        "        # Non-linearity 2\n",
        "        self.relu_3 = nn.ReLU()\n",
        "\n",
        "        # Linear function 2\n",
        "        self.layer_4 = nn.Linear(hidden_dim_3, hidden_dim_4)\n",
        "        # Non-linearity 2\n",
        "        self.relu_4 = nn.ReLU()\n",
        "\n",
        "        # Linear function 3 (readout)\n",
        "        self.layer_5 = nn.Linear(hidden_dim_4, output_dim)  \n",
        "\n",
        "    def forward(self, x):\n",
        "        out = self.layer_1(x)\n",
        "        out = self.relu_1(out)\n",
        "\n",
        "        out = self.layer_2(out)\n",
        "        out = self.relu_2(out)\n",
        "\n",
        "        out = self.layer_3(out)\n",
        "        out = self.relu_3(out)\n",
        "\n",
        "        out = self.layer_4(out)\n",
        "        out = self.relu_4(out)\n",
        "\n",
        "        out = self.layer_5(out)\n",
        "\n",
        "        return torch.sigmoid(out)"
      ],
      "execution_count": 8,
      "outputs": []
    },
    {
      "cell_type": "markdown",
      "metadata": {
        "id": "S7CRr4ErWReh"
      },
      "source": [
        "## *Step 6*: Initialize the 3rd Model"
      ]
    },
    {
      "cell_type": "markdown",
      "metadata": {
        "id": "_pyCFvgIWT0U"
      },
      "source": [
        "As you can see I select \n",
        "- 50 epochs, learning rate 1e-4 and weight decay 1e-3. \n",
        "- For the loss function, I select the BCELoss(), because this is the best option if we have binary classification.\n",
        "- As optimizer I select Adam, since I read that it has the best performance. Althouth I tried other optimizers, the score doesn't changed.\n"
      ]
    },
    {
      "cell_type": "code",
      "metadata": {
        "id": "4Wf_YSr78IMO"
      },
      "source": [
        "# Dimensions of each layer and num of epochs.\n",
        "input_dim = tfidfX_train.shape[1]\n",
        "hidden_dim_1 = 256\n",
        "hidden_dim_2 = 128\n",
        "hidden_dim_3 = 64\n",
        "hidden_dim_4 = 32\n",
        "output_dim = 1\n",
        "num_epochs = 50\n",
        "\n",
        "# Define our first feed forward neural network.\n",
        "first_model = FeedforwardNeuralNetModel(input_dim,hidden_dim_1,hidden_dim_2,hidden_dim_3,hidden_dim_4,output_dim)\n",
        "\n",
        "# Define loss function.\n",
        "criterion = nn.BCELoss()\n",
        "# criterion = nn.CrossEntropyLoss()\n",
        "\n",
        "# Define as optimizer Adam.\n",
        "optimizer = optim.Adam(first_model.parameters(),lr=1e-4,weight_decay=1e-3)\n",
        "\n",
        "# Transfer all the computation to GPU (cuda device).\n",
        "first_model.to(device)\n",
        "criterion = criterion.to(device)"
      ],
      "execution_count": 9,
      "outputs": []
    },
    {
      "cell_type": "markdown",
      "metadata": {
        "id": "iJWo_GUaWj-O"
      },
      "source": [
        "## *Step 7*: Train the 3rd Model"
      ]
    },
    {
      "cell_type": "markdown",
      "metadata": {
        "id": "7qMSlqBsWrf-"
      },
      "source": [
        "I trained the model just like the first one, with the same batch size.\n"
      ]
    },
    {
      "cell_type": "code",
      "metadata": {
        "id": "ClJK3P0RO7ew"
      },
      "source": [
        "def calculate_accuracy(y_true, y_pred):  \n",
        "  y_pred = torch.round(y_pred)\n",
        "  correct = (y_true == y_pred).float() \n",
        "  acc = correct.sum() / len(correct)\n",
        "  return acc\n",
        "\n",
        "batch_size = 10000\n",
        "\n",
        "# Split train dataset to mini batches\n",
        "X_train_mini_batches = torch.split(tfidfX_train,batch_size)\n",
        "Y_train_mini_batches = torch.split(Y_train,batch_size)\n",
        "\n",
        "train_losses = []\n",
        "train_accuracies = []\n",
        "val_losses = []\n",
        "val_accuracies = []\n",
        "\n",
        "# Start training\n",
        "for epoch in range(num_epochs):\n",
        "  epoch_loss = 0\n",
        "  epoch_accuracy = 0\n",
        "  validation_loss=0\n",
        "  val_accuracy=0\n",
        "\n",
        "  for X_train_mini_batch,Y_train_mini_batch in zip(X_train_mini_batches,Y_train_mini_batches):\n",
        "    \n",
        "    X_train_mini_batch = X_train_mini_batch.to(device)\n",
        "    Y_train_mini_batch = Y_train_mini_batch.to(device)\n",
        "\n",
        "    # Forward pass to get output\n",
        "    train_prediction = first_model.forward(X_train_mini_batch.float())\n",
        "    train_prediction = torch.squeeze(train_prediction)\n",
        "\n",
        "    # Calculate Loss\n",
        "    train_loss = criterion(train_prediction,Y_train_mini_batch)\n",
        "\n",
        "    # Clearing up accumulated gradients\n",
        "    optimizer.zero_grad()\n",
        "    \n",
        "    # Getting gradients\n",
        "    train_loss.backward()\n",
        "\n",
        "    # Updating parameters\n",
        "    optimizer.step()\n",
        "\n",
        "    # Add each mini batch's loss\n",
        "    epoch_loss += train_loss.item()\n",
        "\n",
        "    # Add each mini batch's accuracy\n",
        "    epoch_accuracy += calculate_accuracy(Y_train_mini_batch,train_prediction)\n",
        "\n",
        "  # For some epochs print loss and accucary of train and validation set.\n",
        "  if epoch % 1 == 0:\n",
        "    \n",
        "    tfidfX_val = tfidfX_val.to(device)\n",
        "    Y_val = Y_val.to(device)\n",
        "\n",
        "    # Forward pass to get output\n",
        "    val_prediction = first_model.forward(tfidfX_val.float())\n",
        "    val_prediction = torch.squeeze(val_prediction)\n",
        "    \n",
        "    # Calculate Loss\n",
        "    val_loss = criterion(val_prediction,Y_val)\n",
        "\n",
        "    # Add each mini batch's loss\n",
        "    validation_loss = val_loss.item()\n",
        "\n",
        "    # Add each mini batch's accuracy\n",
        "    val_accuracy = calculate_accuracy(Y_val,val_prediction)\n",
        "\n",
        "    epoch_loss /= len(X_train_mini_batches)\n",
        "    epoch_accuracy /= len(X_train_mini_batches)\n",
        "    val_losses.append(validation_loss)\n",
        "    train_losses.append(epoch_loss)\n",
        "    train_accuracies.append(epoch_accuracy)\n",
        "    val_accuracies.append(val_accuracy)\n",
        "    # print(\"Epoch:\",epoch, \"\\n\"\n",
        "    #       \"Train_loss:\",round(epoch_loss,4), \"Train Accuracy:\",round(epoch_accuracy.item(),4), \"\\n\"\n",
        "    #       \"Validation_loss:  \",round(validation_loss,4), \"Validation Accuracy:  \",round(val_accuracy.item(),4), \"\\n\")"
      ],
      "execution_count": 10,
      "outputs": []
    },
    {
      "cell_type": "markdown",
      "metadata": {
        "id": "TLp9oe4lW0uE"
      },
      "source": [
        "## *Step 8*: Plot loss vs epochs and accuracy vs epochs "
      ]
    },
    {
      "cell_type": "code",
      "metadata": {
        "id": "vt5tbuSZJIXZ",
        "colab": {
          "base_uri": "https://localhost:8080/",
          "height": 513
        },
        "outputId": "d3af1385-0b1b-45f6-ba6e-5be7da8f0090"
      },
      "source": [
        "figure(figsize=(8,8)) \n",
        "plt.plot(train_losses)\n",
        "plt.plot(val_losses)\n",
        "plt.title('First Model Loss')\n",
        "plt.ylabel('Loss')\n",
        "plt.xlabel('Epoch')\n",
        "plt.legend(['train', 'val'], loc='upper right')\n",
        "plt.show()"
      ],
      "execution_count": 11,
      "outputs": [
        {
          "output_type": "display_data",
          "data": {
            "image/png": "[encoded data removed]",
            "text/plain": [
              "<Figure size 576x576 with 1 Axes>"
            ]
          },
          "metadata": {
            "tags": [],
            "needs_background": "light"
          }
        }
      ]
    },
    {
      "cell_type": "code",
      "metadata": {
        "id": "fDzYWEzesGI_",
        "colab": {
          "base_uri": "https://localhost:8080/",
          "height": 513
        },
        "outputId": "c018a3f9-1afe-4bae-c30c-1e6d83e7e567"
      },
      "source": [
        "figure(figsize=(8,8)) \n",
        "plt.plot(train_accuracies)\n",
        "plt.plot(val_accuracies)\n",
        "plt.title('First Model Accuracy')\n",
        "plt.ylabel('Loss')\n",
        "plt.xlabel('Epoch')\n",
        "plt.legend(['train', 'val'], loc='upper left')\n",
        "plt.show()"
      ],
      "execution_count": 12,
      "outputs": [
        {
          "output_type": "display_data",
          "data": {
            "image/png": "[encoded data removed]",
            "text/plain": [
              "<Figure size 576x576 with 1 Axes>"
            ]
          },
          "metadata": {
            "tags": [],
            "needs_background": "light"
          }
        }
      ]
    },
    {
      "cell_type": "markdown",
      "metadata": {
        "id": "Pp8zdSs2XBrA"
      },
      "source": [
        "####As you can see there is neither **overfitting** nor **underfitting**, while the training and validation loss decreases to a point of stability with a minimal gap between the two final loss values. I noticed that if I continued with more epochs the plot of training loss continues to decrease with experience and the plot of validation loss decreases to a point and begins increasing again (which means that we have the phenomenon of overfitting). So I decide to stop to 50 epochs as we have a **good fit**.\n",
        "---\n",
        "####If you look carefully, you can see that the model converges approximately in epoch 40. So the **third model** needs at least 40 epochs to reach the minimun cost of 0.45. We should remember this in order to compare this with the first model."
      ]
    },
    {
      "cell_type": "markdown",
      "metadata": {
        "id": "YR-rdZscW6T3"
      },
      "source": [
        "## *Step 9*: Calculate the accuracy on test set  "
      ]
    },
    {
      "cell_type": "code",
      "metadata": {
        "id": "rjVufQAnLHZ2",
        "colab": {
          "base_uri": "https://localhost:8080/"
        },
        "outputId": "52a10322-90ce-4766-b9d3-658b281fc916"
      },
      "source": [
        "tfidfX_test = tfidfX_test.to(device)\n",
        "Y_test = Y_test.to(device)\n",
        "\n",
        "# Forward pass to get output\n",
        "test_prediction = first_model.forward(tfidfX_test.float())\n",
        "test_prediction = torch.squeeze(test_prediction)\n",
        "\n",
        "# Add each mini batch's accuracy\n",
        "test_accuracy = calculate_accuracy(Y_test,test_prediction)\n",
        "\n",
        "print(\"Test Accuracy:\",round(test_accuracy.item(),4), \"\\n\")"
      ],
      "execution_count": 20,
      "outputs": [
        {
          "output_type": "stream",
          "text": [
            "Test Accuracy: 0.7868 \n",
            "\n"
          ],
          "name": "stdout"
        }
      ]
    },
    {
      "cell_type": "code",
      "metadata": {
        "id": "dRRJ_Hfhwm2d",
        "colab": {
          "base_uri": "https://localhost:8080/"
        },
        "outputId": "88bc112c-601d-4297-cf6a-57783b534f4a"
      },
      "source": [
        "#Show the classification report\n",
        "test_prediction = test_prediction.to(device)\n",
        "test_prediction = test_prediction.ge(.5).view(-1).cpu()\n",
        "Y_test = Y_test.cpu()\n",
        "\n",
        "print(classification_report(Y_test,test_prediction))"
      ],
      "execution_count": 14,
      "outputs": [
        {
          "output_type": "stream",
          "text": [
            "              precision    recall  f1-score   support\n",
            "\n",
            "         0.0       0.80      0.78      0.79      1281\n",
            "         1.0       0.78      0.79      0.78      1219\n",
            "\n",
            "    accuracy                           0.79      2500\n",
            "   macro avg       0.79      0.79      0.79      2500\n",
            "weighted avg       0.79      0.79      0.79      2500\n",
            "\n"
          ],
          "name": "stdout"
        }
      ]
    },
    {
      "cell_type": "markdown",
      "metadata": {
        "id": "WSHNxzs6Xm_e"
      },
      "source": [
        "## *Step 10*: Plot ROC Curve "
      ]
    },
    {
      "cell_type": "markdown",
      "metadata": {
        "id": "xyLoy1w4XwZM"
      },
      "source": [
        "Here I plotted the roc curve from sklearn according to this source https://scikit-learn.org/stable/auto_examples/model_selection/plot_roc.html"
      ]
    },
    {
      "cell_type": "code",
      "metadata": {
        "colab": {
          "base_uri": "https://localhost:8080/",
          "height": 520
        },
        "id": "SxkdI5cDdscj",
        "outputId": "baee8f15-06ca-48a8-d00e-9f85a2563d9e"
      },
      "source": [
        "# Get predictions of our best model.\n",
        "y_score = first_model.forward(tfidfX_test.float())\n",
        "\n",
        "# Convert tensors to numpy arrays after we pass them to cpu.\n",
        "y_score = y_score.cpu().detach().numpy()\n",
        "y = Y_test.cpu().detach().numpy()\n",
        "\n",
        "# Label binarization and store num of classes.\n",
        "y_test = label_binarize(y, classes=[0, 1])\n",
        "n_classes = y_test.shape[1]\n",
        "\n",
        "# Compute ROC curve and ROC area for each class\n",
        "fpr = dict()\n",
        "tpr = dict()\n",
        "roc_auc = dict()\n",
        "for i in range(n_classes):\n",
        "    fpr[i], tpr[i], _ = roc_curve(y_test[:,i], y_score[:,i])\n",
        "    roc_auc[i] = auc(fpr[i], tpr[i])\n",
        "\n",
        "plt.figure(figsize=(8,8))\n",
        "lw = 2\n",
        "plt.plot(fpr[0], tpr[0], color='darkorange',lw=lw, label='ROC curve (area = %0.2f)' % roc_auc[0])\n",
        "plt.plot([0, 1], [0, 1], color='navy', lw=lw, linestyle='--')\n",
        "plt.xlim([0.0, 1.0])\n",
        "plt.ylim([0.0, 1.05])\n",
        "plt.xlabel('False Positive Rate',fontsize=15)\n",
        "plt.ylabel('True Positive Rate',fontsize=15)\n",
        "plt.title('Receiver operating characteristic example',fontsize=15)\n",
        "plt.legend(loc=\"lower right\",fontsize=15)\n",
        "plt.show()\n"
      ],
      "execution_count": 24,
      "outputs": [
        {
          "output_type": "display_data",
          "data": {
            "image/png": "[encoded data removed]",
            "text/plain": [
              "<Figure size 576x576 with 1 Axes>"
            ]
          },
          "metadata": {
            "tags": [],
            "needs_background": "light"
          }
        }
      ]
    },
    {
      "cell_type": "markdown",
      "metadata": {
        "id": "xSEGBUcTg_Lf"
      },
      "source": [
        "####**Roc Curve** tells us how much model is capable of distinguishing between classes. Higher the AUC, better the model is at predicting 0s as 0s and 1s as 1s. The ROC curve is plotted with TPR against the FPR where TPR is on y-axis and FPR is on the x-axis. From theory of Machine Learning Lectures, we learned that false positive fraction = FP/(FP+TN) and true positive fraction = TP/(TP+FN). We notice that AUC is 0.87, which means there is 87% chance that model will be able to distinguish between positive and negative class. We understand that this is a very good score!"
      ]
    },
    {
      "cell_type": "code",
      "metadata": {
        "id": "AtvVfn4m6mAd"
      },
      "source": [
        "#Close the pickle files.\n",
        "x_train_file.close()\n",
        "y_train_file.close()\n",
        "x_test_file.close()\n",
        "y_test_file.close()\n",
        "x_val_file.close()\n",
        "y_val_file.close()"
      ],
      "execution_count": 15,
      "outputs": []
    },
    {
      "cell_type": "markdown",
      "metadata": {
        "id": "bAxlK3HtYXfl"
      },
      "source": [
        "  ## *Step 10*: Summaries"
      ]
    },
    {
      "cell_type": "markdown",
      "metadata": {
        "id": "FZyiMjDpYarC"
      },
      "source": [
        "- As you can see I picked this model as the best one.\n",
        "\n",
        "- We notice that the third model gives score of 0.79 just like the first one. In order to reach to this score, without overfitting or underfitting, it needed at least 40 epochs to reach the minimun cost of 0.45.\n",
        "\n",
        "- I would like to refer that I experimented with several values of hidden layers and units and I end up to 4 hidden layers. I select the number of hidden units to be ^2 to have better memory managment.\n",
        "\n",
        "- Also I experimented with the number of units of output layer and other activation functions (like softmax or tanh), but I think that for binary classification the sigmoid fuction for output layer with one hidden unit it's the best option. For other hidden units I preffered the Relu activation function because it's the most used activation function, as we learned in the lectures and it give me the best result against to ie Selu.\n",
        "\n",
        "- I choose this model as the best because it has the same exactly score as the first one but with less epochs. Specifically, in the first non deep model we reach the minimun cost of 0.45 in at least 120 epochs, but now we reach the minimun cost of 0.45 in only 40 epochs! This is a big improvement and verifies the theory that deeper networks is better than the swallow ones in most of cases. \n",
        "\n",
        "- I have to mention that the input of dataset is exactly the same as the first model so as the comparison between them to be fair enough.\n",
        "\n",
        "- In Logistic Regression of first assignment I reached the score of 0.82, but with the whole dataset, with no max features and with bigrams. So if I wanted to compare the two models, I run the first assignment with the half of our dataset, max_features=1000 in tf-idf and without any bigrams. The result that gave me this time is a score of 0.76. This means that my model (in the same data) went much better.\n",
        "\n",
        "- Logistic regression is a technique that can be used for binary classification making a prediction when the thing to predict can be one of just two possible values. On the other side, a neural network is more complex than logistic regression. Logistic regression is a subset of a neural network classifier. For example, you can simulate a logistic regression model using a neural network with one hidden node with the identity activation function, and one output node with zero bias and logistic sigmoid activation. Therefore, **theoretically**, a neural network is always better than logistic regression, or more precisely, a neural network can do no worse than logistic regression (in most of cases). However, **in practice**, a neural network model for binary classification can be worse than a logistic regression model because neural networks are more difficult to train and are more prone to overfitting than logistic regression. This may be the reason that the score of Logistic Regression and mine 3rd model haven't so much difference. "
      ]
    }
  ]
}