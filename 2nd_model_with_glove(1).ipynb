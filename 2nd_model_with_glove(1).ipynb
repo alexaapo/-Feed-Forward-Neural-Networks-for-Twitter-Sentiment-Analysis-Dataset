{
  "nbformat": 4,
  "nbformat_minor": 0,
  "metadata": {
    "colab": {
      "name": "2nd_model_with_glove.ipynb",
      "provenance": [],
      "collapsed_sections": []
    },
    "kernelspec": {
      "display_name": "Python 3",
      "name": "python3"
    },
    "accelerator": "GPU"
  },
  "cells": [
    {
      "cell_type": "code",
      "metadata": {
        "id": "4NCn1tYEH6Zz",
        "colab": {
          "base_uri": "https://localhost:8080/"
        },
        "outputId": "783565e3-7761-4d1c-9509-71fe3484733e"
      },
      "source": [
        "import pandas as pd\n",
        "import string\n",
        "import os\n",
        "import numpy as np\n",
        "from wordcloud import WordCloud, STOPWORDS, ImageColorGenerator\n",
        "from PIL import Image\n",
        "import urllib\n",
        "import requests\n",
        "import matplotlib.pyplot as plt\n",
        "from sklearn.model_selection import train_test_split,cross_val_score\n",
        "from sklearn.metrics import roc_curve, auc, classification_report\n",
        "from sklearn.preprocessing import label_binarize\n",
        "from sklearn.naive_bayes import GaussianNB\n",
        "from sklearn.model_selection import cross_val_score\n",
        "import time\n",
        "import glob\n",
        "import seaborn as sns\n",
        "import matplotlib.pyplot as plt\n",
        "import operator\n",
        "import folium\n",
        "from itertools import cycle, islice\n",
        "from pandas import options\n",
        "import warnings\n",
        "import pickle\n",
        "import re\n",
        "import nltk\n",
        "import torch.nn as nn\n",
        "import torch.nn.functional as F\n",
        "import torch.optim as optim\n",
        "import torch\n",
        "from matplotlib.pyplot import figure\n",
        "from nltk.corpus import stopwords \n",
        "import nltk\n",
        "\n",
        "\n",
        "nltk.download('wordnet')\n",
        "nltk.download('stopwords')"
      ],
      "execution_count": 1,
      "outputs": [
        {
          "output_type": "stream",
          "text": [
            "[nltk_data] Downloading package wordnet to /root/nltk_data...\n",
            "[nltk_data]   Package wordnet is already up-to-date!\n",
            "[nltk_data] Downloading package stopwords to /root/nltk_data...\n",
            "[nltk_data]   Package stopwords is already up-to-date!\n"
          ],
          "name": "stdout"
        },
        {
          "output_type": "execute_result",
          "data": {
            "text/plain": [
              "True"
            ]
          },
          "metadata": {
            "tags": []
          },
          "execution_count": 1
        }
      ]
    },
    {
      "cell_type": "code",
      "metadata": {
        "id": "b3_3DZsbIIdD"
      },
      "source": [
        "torch.cuda.empty_cache()"
      ],
      "execution_count": 2,
      "outputs": []
    },
    {
      "cell_type": "code",
      "metadata": {
        "id": "7cr9Ja5wIBs8",
        "colab": {
          "base_uri": "https://localhost:8080/"
        },
        "outputId": "78b6aba4-0a79-41e0-c3e6-ddeb7ecc98e2"
      },
      "source": [
        "from google.colab import drive\n",
        "drive.mount('/content/drive/')"
      ],
      "execution_count": 3,
      "outputs": [
        {
          "output_type": "stream",
          "text": [
            "Drive already mounted at /content/drive/; to attempt to forcibly remount, call drive.mount(\"/content/drive/\", force_remount=True).\n"
          ],
          "name": "stdout"
        }
      ]
    },
    {
      "cell_type": "markdown",
      "metadata": {
        "id": "ZnuBVHCELYVw"
      },
      "source": [
        "## *Step 1*: Load the data of preprocessing Notebook\n"
      ]
    },
    {
      "cell_type": "code",
      "metadata": {
        "id": "Npp4DwtBLX6q"
      },
      "source": [
        "x_train_file = open('/content/drive/My Drive/X_train.pkl', 'rb')\n",
        "X_train = pickle.load(x_train_file)\n",
        "\n",
        "x_test_file = open('/content/drive/My Drive/X_test.pkl', 'rb')\n",
        "X_test = pickle.load(x_test_file)\n",
        "\n",
        "y_train_file = open('/content/drive/My Drive/Y_train.pkl', 'rb')\n",
        "Y_train = pickle.load(y_train_file)\n",
        "\n",
        "y_test_file = open('/content/drive/My Drive/Y_test.pkl', 'rb')\n",
        "Y_test = pickle.load(y_test_file)\n",
        "\n",
        "x_val_file = open('/content/drive/My Drive/X_val.pkl', 'rb')\n",
        "X_val = pickle.load(x_val_file)\n",
        "\n",
        "y_val_file = open('/content/drive/My Drive/Y_val.pkl', 'rb')\n",
        "Y_val = pickle.load(y_val_file)"
      ],
      "execution_count": 4,
      "outputs": []
    },
    {
      "cell_type": "markdown",
      "metadata": {
        "id": "NCZ11TlNJEAq"
      },
      "source": [
        "## *Step 2:* Vectorization with pre-trained word embendding vectors using GloVe"
      ]
    },
    {
      "cell_type": "markdown",
      "metadata": {
        "id": "OzAINbyeBs2z"
      },
      "source": [
        "Here I download the glove.6B.50d.txt file, in which there is about 400 words represented by vectors of 50 dimensions. If we printed the content of the file, we could see that each line contain as first element a word followed by 50 real numbers. \n",
        "\n",
        "---\n",
        "\n",
        "I need to parse the file to get as output: list of words, dictionary mapping each word to their id (position) and array of vectors."
      ]
    },
    {
      "cell_type": "code",
      "metadata": {
        "id": "W_NUI5fDJB6X"
      },
      "source": [
        "words = []\n",
        "idx = 0\n",
        "word2idx = {}\n",
        "vectors = []\n",
        "\n",
        "with open(f'/content/drive/My Drive/glove.6B.50d.txt', 'rb') as f:\n",
        "    for l in f:\n",
        "        line = l.decode().split()\n",
        "        word = line[0]\n",
        "        words.append(word)\n",
        "        word2idx[word] = idx\n",
        "        idx += 1\n",
        "        vect = np.array(line[1:]).astype(np.float)\n",
        "        vectors.append(vect)\n",
        "\n",
        "glove = {w: vectors[word2idx[w]] for w in words}"
      ],
      "execution_count": 5,
      "outputs": []
    },
    {
      "cell_type": "code",
      "metadata": {
        "id": "gGbEz2cGKbWN"
      },
      "source": [
        "# Save GloVe dictionary.\n",
        "glove_file = open(\"/content/drive/My Drive/glove_dict_50d.pkl\", \"wb\")\n",
        "pickle.dump(glove,glove_file)\n",
        "glove_file.close()\n",
        "\n",
        "# Load GloVe dictionary.\n",
        "glove_file = open(\"/content/drive/My Drive/glove_dict_50d.pkl\", \"rb\")\n",
        "glove = pickle.load(glove_file)\n",
        "# glove_file.close()"
      ],
      "execution_count": 7,
      "outputs": []
    },
    {
      "cell_type": "markdown",
      "metadata": {
        "id": "sudyA3qWETZV"
      },
      "source": [
        "####I build a matrix of weights with shape will be equal to (dataset’s vocabulary length, word vectors dimension).\n",
        "\n",
        "---\n",
        "\n",
        "####For each word in dataset’s vocabulary, I checked if it is on glove’s vocabulary. If there is, I load its pre-trained word vector. Otherwise, I initialized it with zeros. Finally, I find the mean vector of each tweet. This is a technique that we learned and applied in lesson of Data Mining and I borrowed it from my older projects of this lesson."
      ]
    },
    {
      "cell_type": "code",
      "metadata": {
        "id": "GmanB6IQLOSa"
      },
      "source": [
        "def Vectors_from_Glove(dataset):\n",
        "  matrix_len = dataset['text'].str.split().str.len().sum()\n",
        "  # print(matrix_len)\n",
        "  words_found = 0\n",
        "  words = 0\n",
        "  mean_tweets = []\n",
        "\n",
        "  for i,row in enumerate(dataset['text']):\n",
        "    splited_words = str(row).split(' ')\n",
        "    weight_matrix = np.zeros((len(splited_words),50))\n",
        "    for j,word in enumerate(splited_words): \n",
        "      words += 1\n",
        "      if word in glove:\n",
        "        weight_matrix[j] = glove[word]\n",
        "        words_found += 1\n",
        "    mean_tweets.append(np.mean(weight_matrix,axis=0))\n",
        "\n",
        "  return np.array(mean_tweets), words_found, matrix_len"
      ],
      "execution_count": 8,
      "outputs": []
    },
    {
      "cell_type": "markdown",
      "metadata": {
        "id": "SR6SqlyYFYIM"
      },
      "source": [
        "####Print the ratio of words that founded in glove on train, validation and test set. We see that we found 93% of words in our tweets, which is is a very satisfying score."
      ]
    },
    {
      "cell_type": "code",
      "metadata": {
        "id": "fZPKrmZALyWk",
        "colab": {
          "base_uri": "https://localhost:8080/"
        },
        "outputId": "2eb9732c-0cb6-41a5-a236-55d29b68e5d5"
      },
      "source": [
        "gloveX_train, words_found, matrix_len = Vectors_from_Glove(pd.DataFrame(X_train))\n",
        "print(gloveX_train.shape)\n",
        "# print(type(gloveX_train))\n",
        "# print(len(gloveX_train[0]))  \n",
        "# print(gloveX_train[0])\n",
        "print(\"Ratio of words that have founded in Glove: \", round(words_found/matrix_len,2))\n",
        "\n",
        "gloveX_val, words_found, matrix_len = Vectors_from_Glove(pd.DataFrame(X_val))\n",
        "print(\"Ratio of words that have founded in Glove: \", round(words_found/matrix_len,2))\n",
        "\n",
        "gloveX_test, words_found, matrix_len = Vectors_from_Glove(pd.DataFrame(X_test))\n",
        "print(\"Ratio of words that have founded in Glove: \", round(words_found/matrix_len,2))\n"
      ],
      "execution_count": 9,
      "outputs": [
        {
          "output_type": "stream",
          "text": [
            "(1267232, 50)\n",
            "Ratio of words that have founded in Glove:  0.93\n",
            "Ratio of words that have founded in Glove:  0.93\n",
            "Ratio of words that have founded in Glove:  0.93\n"
          ],
          "name": "stdout"
        }
      ]
    },
    {
      "cell_type": "markdown",
      "metadata": {
        "id": "772Om0r0GG7h"
      },
      "source": [
        "## *Step 3*: Convert to tensors"
      ]
    },
    {
      "cell_type": "code",
      "metadata": {
        "id": "nTLTSU68Y14d"
      },
      "source": [
        "# Convert X datasets to tensors with function convert_to_tensor.\n",
        "gloveX_train = torch.tensor(gloveX_train)\n",
        "gloveX_val = torch.tensor(gloveX_val)\n",
        "gloveX_test = torch.tensor(gloveX_test)"
      ],
      "execution_count": 10,
      "outputs": []
    },
    {
      "cell_type": "code",
      "metadata": {
        "id": "v203L0IgZVnS"
      },
      "source": [
        "# Convert Y labels to tensors with torch.squeeze.\n",
        "Y_train = torch.squeeze(torch.from_numpy(Y_train.to_numpy()).float())\n",
        "Y_val = torch.squeeze(torch.from_numpy(Y_val.to_numpy()).float())\n",
        "Y_test = torch.squeeze(torch.from_numpy(Y_test.to_numpy()).float())"
      ],
      "execution_count": 11,
      "outputs": []
    },
    {
      "cell_type": "markdown",
      "metadata": {
        "id": "arFJvnLwGNty"
      },
      "source": [
        "## *Step 4*: Use Cuda"
      ]
    },
    {
      "cell_type": "markdown",
      "metadata": {
        "id": "3R4jPfraGTrG"
      },
      "source": [
        "Here I use the GPU (whenever I can) that google colab offer to its users. \n",
        "\n",
        "In this case I can run the colab notebook for all the dataset without GPU (ie the CPU) without have memory crashed. This is due to the fact that now I have much less dimensions (only 50) against to 1000 that I have in my first model. However, in any case if I use cuda it run much faster."
      ]
    },
    {
      "cell_type": "code",
      "metadata": {
        "id": "mLkzdXVPZYD3",
        "colab": {
          "base_uri": "https://localhost:8080/"
        },
        "outputId": "9ee6de59-7ca6-4367-a146-a212db4fec51"
      },
      "source": [
        "# Use cuda if present\n",
        "device = torch.device(\"cuda\" if torch.cuda.is_available() else \"cpu\")\n",
        "print(\"Device available for running: \")\n",
        "print(device)"
      ],
      "execution_count": 12,
      "outputs": [
        {
          "output_type": "stream",
          "text": [
            "Device available for running: \n",
            "cuda\n"
          ],
          "name": "stdout"
        }
      ]
    },
    {
      "cell_type": "markdown",
      "metadata": {
        "id": "-x5TUR1MH5xp"
      },
      "source": [
        "## *Step 5*: Built the 2nd Model"
      ]
    },
    {
      "cell_type": "markdown",
      "metadata": {
        "id": "Bsz65zu9H9DW"
      },
      "source": [
        "####In my second model I select to have 2 hidden layers (just like the first model so I can easily compare them), with each size of hidden units to be 64 and 16 respectively. So I have again a non deep Neural Network. I tried several combinations of numbers of hidden units, but I think this is the best option to not have overfitting."
      ]
    },
    {
      "cell_type": "code",
      "metadata": {
        "id": "kr1hU0_iZvl9"
      },
      "source": [
        "class Feed_forward_Neural_NetModel(nn.Module):\n",
        "    def __init__(self, input_dim, hidden_dim_1, hidden_dim_2, output_dim):\n",
        "        super(Feed_forward_Neural_NetModel, self).__init__()\n",
        "        \n",
        "        # Linear function 1\n",
        "        self.layer_1 = nn.Linear(input_dim, hidden_dim_1) \n",
        "        # self.dropout = nn.Dropout(0.3)\n",
        "        # self.batch1 = nn.BatchNorm1d(hidden_dim_1)\n",
        "        # self.dropout1 = nn.Dropout(0.5)\n",
        "        \n",
        "        # Non-linearity 1\n",
        "        self.relu_1 = nn.ReLU()\n",
        "\n",
        "        # Linear function 2\n",
        "        self.layer_2 = nn.Linear(hidden_dim_1, hidden_dim_2)\n",
        "        # self.batch2 = nn.BatchNorm1d(hidden_dim_2)\n",
        "        # self.dropout2 = nn.Dropout(0.5)\n",
        "\n",
        "        # Non-linearity 2\n",
        "        self.relu_2 = nn.ReLU()\n",
        "\n",
        "        # Linear function 3 \n",
        "        self.layer_3 = nn.Linear(hidden_dim_2, output_dim)  \n",
        "\n",
        "    def forward(self, x):\n",
        "        out = self.layer_1(x)\n",
        "        out = self.relu_1(out)\n",
        "\n",
        "        out = self.layer_2(out)\n",
        "        out = self.relu_2(out)\n",
        "\n",
        "        out = self.layer_3(out)\n",
        "        \n",
        "        return torch.sigmoid(out)"
      ],
      "execution_count": 13,
      "outputs": []
    },
    {
      "cell_type": "markdown",
      "metadata": {
        "id": "am4x6-pRKt-M"
      },
      "source": [
        "## *Step 6*: Initialize the 1st Model"
      ]
    },
    {
      "cell_type": "markdown",
      "metadata": {
        "id": "YH28RQ3mKvQb"
      },
      "source": [
        "As you can see I select \n",
        "- 80 epochs, learning rate 1e-4 and weight decay 1e-4. \n",
        "- For the loss function, I select the BCELoss(), because this is the best option if we have binary classification.\n",
        "- As optimizer I select Adam, since I read that it has the best performance. Althouth I tried other optimizers, the score doesn't changed.\n"
      ]
    },
    {
      "cell_type": "code",
      "metadata": {
        "id": "3MAo2TOgZxKv"
      },
      "source": [
        "# Dimensions of each layer and num of epochs.\n",
        "input_dim = gloveX_train.shape[1]\n",
        "hidden_dim_1 = 64\n",
        "hidden_dim_2 = 16\n",
        "output_dim = 1\n",
        "num_epochs = 80\n",
        "\n",
        "# Define our first feed forward neural network.\n",
        "second_model = Feed_forward_Neural_NetModel(input_dim,hidden_dim_1,hidden_dim_2,output_dim)\n",
        "\n",
        "# Define loss function.\n",
        "# criterion = nn.BCEWithLogitsLoss()\n",
        "# criterion = nn.MSELoss()\n",
        "criterion = nn.BCELoss()\n",
        "# criterion = nn.CrossEntropyLoss()\n",
        "\n",
        "# Define as optimizer Adam.\n",
        "# optimizer = optim.Adamax(second_model.parameters(),lr=0.00001,weight_decay=1e-3)\n",
        "# optimizer = optim.AdamW(second_model.parameters(),lr=0.00001,weight_decay=1e-3)\n",
        "# optimizer = optim.SGD(second_model.parameters(),lr=0.00001,weight_decay=1e-3)\n",
        "# optimizer = optim.RMSprop(second_model.parameters(),lr=0.00001,weight_decay=1e-3)\n",
        "optimizer = optim.Adam(second_model.parameters(),lr=1e-4,weight_decay=1e-4)\n",
        "\n",
        "# Transfer all the computation to GPU (cuda device).\n",
        "second_model.to(device)\n",
        "criterion = criterion.to(device)"
      ],
      "execution_count": 14,
      "outputs": []
    },
    {
      "cell_type": "markdown",
      "metadata": {
        "id": "HivFsibKLjx4"
      },
      "source": [
        "## *Step 7*: Train the 2nd Model"
      ]
    },
    {
      "cell_type": "markdown",
      "metadata": {
        "id": "MH7UIMVvLoh2"
      },
      "source": [
        "I trained the model just like the first one, with the same batch size."
      ]
    },
    {
      "cell_type": "code",
      "metadata": {
        "id": "KCyqGT_lZ7kz"
      },
      "source": [
        "def calculate_accuracy(y_true, y_pred):  \n",
        "  y_pred = torch.round(y_pred)\n",
        "  correct = (y_true == y_pred).float() \n",
        "  acc = correct.sum() / len(correct)\n",
        "  return acc\n",
        "\n",
        "batch_size = 10000\n",
        "\n",
        "# Split train dataset to mini batches\n",
        "X_train_mini_batches = torch.split(gloveX_train,batch_size)\n",
        "Y_train_mini_batches = torch.split(Y_train,batch_size)\n",
        "\n",
        "train_losses = []\n",
        "train_accuracies = []\n",
        "val_losses = []\n",
        "val_accuracies = []\n",
        "\n",
        "# Start training\n",
        "for epoch in range(num_epochs):\n",
        "  epoch_loss = 0\n",
        "  epoch_accuracy = 0\n",
        "  validation_loss=0\n",
        "  val_accuracy=0\n",
        "\n",
        "  for X_train_mini_batch,Y_train_mini_batch in zip(X_train_mini_batches,Y_train_mini_batches):\n",
        "    \n",
        "    X_train_mini_batch = X_train_mini_batch.to(device)\n",
        "    Y_train_mini_batch = Y_train_mini_batch.to(device)\n",
        "\n",
        "    # Forward pass to get output\n",
        "    train_prediction = second_model.forward(X_train_mini_batch.float())\n",
        "    train_prediction = torch.squeeze(train_prediction)\n",
        "\n",
        "    # Calculate Loss\n",
        "    train_loss = criterion(train_prediction,Y_train_mini_batch)\n",
        "\n",
        "    # Clearing up accumulated gradients\n",
        "    optimizer.zero_grad()\n",
        "    \n",
        "    # Getting gradients \n",
        "    train_loss.backward()\n",
        "\n",
        "    # Updating parameters\n",
        "    optimizer.step()\n",
        "\n",
        "    # Add each mini batch's loss\n",
        "    epoch_loss += train_loss.item()\n",
        "\n",
        "    # Add each mini batch's accuracy\n",
        "    epoch_accuracy += calculate_accuracy(Y_train_mini_batch,train_prediction)\n",
        "\n",
        "  # For some epochs print loss and accucary of train and validation set.\n",
        "  if epoch % 1 == 0:\n",
        "    \n",
        "    gloveX_val = gloveX_val.to(device)\n",
        "    Y_val = Y_val.to(device)\n",
        "\n",
        "    # Forward pass to get output\n",
        "    val_prediction = second_model.forward(gloveX_val.float())\n",
        "    val_prediction = torch.squeeze(val_prediction)\n",
        "    \n",
        "    # Calculate Loss\n",
        "    val_loss = criterion(val_prediction,Y_val)\n",
        "\n",
        "    # Add each mini batch's loss\n",
        "    validation_loss += val_loss.item()\n",
        "\n",
        "    # Add each mini batch's accuracy\n",
        "    val_accuracy = calculate_accuracy(Y_val,val_prediction)\n",
        "\n",
        "    epoch_loss /= len(X_train_mini_batches)\n",
        "    epoch_accuracy /= len(X_train_mini_batches)\n",
        "    val_losses.append(validation_loss)\n",
        "    train_losses.append(epoch_loss)\n",
        "    train_accuracies.append(epoch_accuracy)\n",
        "    val_accuracies.append(val_accuracy)\n",
        "    # print(\"Epoch:\",epoch, \"\\n\"\n",
        "    #       \"Train_loss:\",round(epoch_loss,4), \"Train Accuracy:\",round(epoch_accuracy.item(),4), \"\\n\"\n",
        "    #       \"Validation_loss:  \",round(validation_loss,4), \"Validation Accuracy:  \",round(val_accuracy.item(),4), \"\\n\")\n",
        "    "
      ],
      "execution_count": 15,
      "outputs": []
    },
    {
      "cell_type": "markdown",
      "metadata": {
        "id": "YOhe4NTkLRWG"
      },
      "source": [
        "## *Step 8*: Plot loss vs epochs and accuracy vs epochs "
      ]
    },
    {
      "cell_type": "code",
      "metadata": {
        "id": "H6N2paqfaWec",
        "colab": {
          "base_uri": "https://localhost:8080/",
          "height": 621
        },
        "outputId": "11b5200a-58d5-45fa-bfec-d1e4ec200598"
      },
      "source": [
        "figure(figsize=(10,10)) \n",
        "plt.plot(train_losses)\n",
        "plt.plot(val_losses)\n",
        "plt.title('Second Model Loss')\n",
        "plt.ylabel('Loss')\n",
        "plt.xlabel('Epoch')\n",
        "plt.legend(['train', 'val'], loc='upper right')\n",
        "plt.show()"
      ],
      "execution_count": 16,
      "outputs": [
        {
          "output_type": "display_data",
          "data": {
            "image/png": "[encoded data removed]",
            "text/plain": [
              "<Figure size 720x720 with 1 Axes>"
            ]
          },
          "metadata": {
            "tags": [],
            "needs_background": "light"
          }
        }
      ]
    },
    {
      "cell_type": "code",
      "metadata": {
        "id": "JR8G2SpdacKd",
        "colab": {
          "base_uri": "https://localhost:8080/",
          "height": 621
        },
        "outputId": "9ed5f6fc-6d31-4d2a-ccf6-564237e20305"
      },
      "source": [
        "figure(figsize=(10,10)) \n",
        "plt.plot(train_accuracies)\n",
        "plt.plot(val_accuracies)\n",
        "plt.title('Second Model Accuracy')\n",
        "plt.ylabel('Loss')\n",
        "plt.xlabel('Epoch')\n",
        "plt.legend(['train', 'val'], loc='upper left')\n",
        "plt.show()"
      ],
      "execution_count": 17,
      "outputs": [
        {
          "output_type": "display_data",
          "data": {
            "image/png": "[encoded data removed]",
            "text/plain": [
              "<Figure size 720x720 with 1 Axes>"
            ]
          },
          "metadata": {
            "tags": [],
            "needs_background": "light"
          }
        }
      ]
    },
    {
      "cell_type": "markdown",
      "metadata": {
        "id": "AFYNt6DFMMng"
      },
      "source": [
        "####As you can see there is neither **overfitting** nor **underfitting**, while the training and validation loss decreases to a point of stability with a minimal gap between the two final loss values. I observed that if I continued with more epochs the plot of training loss continues to decrease with experience and the plot of validation loss decreases to a point and begins increasing again (which means that we have the phenomenon of overfitting). So I decide to stop to 80 epochs as we have a **good fit**.\n",
        "---\n",
        "####If you look carefully, you can see that the model converges approximately in epoch 60. So the **second model** needs at least 60 epochs to reach the minimun cost of 0.55. We should remember this in order to compare this with the other models."
      ]
    },
    {
      "cell_type": "markdown",
      "metadata": {
        "id": "h55fNVePM7Jd"
      },
      "source": [
        "## *Step 9*: Calculate the accuracy on test set  "
      ]
    },
    {
      "cell_type": "markdown",
      "metadata": {
        "id": "k4cBwFw7M93V"
      },
      "source": [
        "Here I calculate the accuracy on test set manually and also show the classification report."
      ]
    },
    {
      "cell_type": "code",
      "metadata": {
        "id": "MbI7dLIzafi0",
        "colab": {
          "base_uri": "https://localhost:8080/"
        },
        "outputId": "3cfa8501-8f0b-416d-dbf4-faa78f644a5a"
      },
      "source": [
        "gloveX_test = gloveX_test.to(device)\n",
        "Y_test = Y_test.to(device)\n",
        "\n",
        "# Forward pass to get output\n",
        "test_prediction = second_model.forward(gloveX_test.float())\n",
        "test_prediction = torch.squeeze(test_prediction)\n",
        "\n",
        "# Add each mini batch's accuracy\n",
        "test_accuracy = calculate_accuracy(Y_test,test_prediction)\n",
        "\n",
        "print(\"Test Accuracy:\",round(test_accuracy.item(),4), \"\\n\")"
      ],
      "execution_count": 18,
      "outputs": [
        {
          "output_type": "stream",
          "text": [
            "Test Accuracy: 0.7048 \n",
            "\n"
          ],
          "name": "stdout"
        }
      ]
    },
    {
      "cell_type": "code",
      "metadata": {
        "id": "6jRevnDJapD1",
        "colab": {
          "base_uri": "https://localhost:8080/"
        },
        "outputId": "5719d4be-cf2f-4ddb-d650-59712513cd95"
      },
      "source": [
        "#Show the classification report\n",
        "test_prediction = test_prediction.to(device)\n",
        "test_prediction = test_prediction.ge(.5).view(-1).cpu()\n",
        "Y_test = Y_test.cpu()\n",
        "\n",
        "print(classification_report(Y_test,test_prediction))"
      ],
      "execution_count": 19,
      "outputs": [
        {
          "output_type": "stream",
          "text": [
            "              precision    recall  f1-score   support\n",
            "\n",
            "         0.0       0.71      0.71      0.71      3240\n",
            "         1.0       0.70      0.70      0.70      3160\n",
            "\n",
            "    accuracy                           0.70      6400\n",
            "   macro avg       0.70      0.70      0.70      6400\n",
            "weighted avg       0.70      0.70      0.70      6400\n",
            "\n"
          ],
          "name": "stdout"
        }
      ]
    },
    {
      "cell_type": "code",
      "metadata": {
        "id": "qbHFFhCavm_3"
      },
      "source": [
        "#Close the pickle files.\n",
        "x_train_file.close()\n",
        "y_train_file.close()\n",
        "x_test_file.close()\n",
        "y_test_file.close()\n",
        "x_val_file.close()\n",
        "y_val_file.close()"
      ],
      "execution_count": 20,
      "outputs": []
    },
    {
      "cell_type": "markdown",
      "metadata": {
        "id": "w6oXVLIRNGLP"
      },
      "source": [
        "  ## *Step 10*: Summaries"
      ]
    },
    {
      "cell_type": "markdown",
      "metadata": {
        "id": "5wMXYL8CNNxK"
      },
      "source": [
        "- We notice that the second model gives score of 0.70. In order to reach to this score, without overfitting or underfitting, it needed at least 60 epochs to reach the minimun cost.\n",
        "\n",
        "- When I have overfitting I tried the technique of Dropout and Batch Normalize but it didn't help me again, because the only thing that happened is the cost fluctuate over the training examples and it wasn't so quite smooth just now. I end up to the coclusion that techniques such as Dropout and Batch Normalize doesn't help us, because our dataset is pretty much \"easy\" for our model.\n",
        "\n",
        "- I have to mention that in order to run all the colab notebook with no crashed memory, I load all of our dataset, without any problem this time because of the little amount of dimensions 50 against to 1000 (with tf-idf).\n",
        "\n",
        "- As you can observe this model didn't go as well as we expected. Due to pre-trained word embedding glove, I expected the model to do better work than the tf-idf model. However, the second model gives me score of 70% and minimum cost 0.55. Although it reach this cost in less epochs (60 against to 120 of the first model), the score is much worse than the first one of 79% and I didn't see any improvement (nor in cost). For this reason, I choose the first model with tf-idf over the second one with glove to continue with the experimentation.\n",
        "\n",
        "- When I thought about it again, I realize that it is logical that the first model go better than the second model with glove, because in the first case we use 1000 dimensions and it is too much information over only 50 with glove. "
      ]
    }
  ]
}